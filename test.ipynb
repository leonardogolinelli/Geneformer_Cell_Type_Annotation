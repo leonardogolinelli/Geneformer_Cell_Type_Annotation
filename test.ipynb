{
 "cells": [
  {
   "cell_type": "code",
   "execution_count": 1,
   "metadata": {},
   "outputs": [
    {
     "name": "stdout",
     "output_type": "stream",
     "text": [
      "Loaded id_class_dict: {0: 'CD34+', 1: 'Dendritic', 2: 'CD4+/CD45RO+ Memory', 3: 'CD8+ Cytotoxic T', 4: 'CD4+ T Helper2', 5: 'CD56+ NK', 6: 'CD4+/CD45RA+/CD25- Naive T', 7: 'CD14+ Monocyte', 8: 'CD8+/CD45RA+ Naive Cytotoxic', 9: 'CD4+/CD25 T Reg', 10: 'CD19+ B'}\n"
     ]
    }
   ],
   "source": [
    "import pickle\n",
    "import numpy as np\n",
    "import os\n",
    "\n",
    "\n",
    "# Load the id_class_dict generated during data preparation\n",
    "id_class_dict_path = os.path.join(\"outputs_gf-6L-30M-i2048_v2\", \"files\", \"cell_classifier_id_class_dict.pkl\")\n",
    "with open(id_class_dict_path, \"rb\") as f:\n",
    "    id_class_dict = pickle.load(f)\n",
    "print(\"Loaded id_class_dict:\", id_class_dict)"
   ]
  },
  {
   "cell_type": "code",
   "execution_count": 3,
   "metadata": {},
   "outputs": [
    {
     "name": "stdout",
     "output_type": "stream",
     "text": [
      "0: CD34+\n",
      "1: Dendritic\n",
      "2: CD4+/CD45RO+ Memory\n",
      "3: CD8+ Cytotoxic T\n",
      "4: CD4+ T Helper2\n",
      "5: CD56+ NK\n",
      "6: CD4+/CD45RA+/CD25- Naive T\n",
      "7: CD14+ Monocyte\n",
      "8: CD8+/CD45RA+ Naive Cytotoxic\n",
      "9: CD4+/CD25 T Reg\n",
      "10: CD19+ B\n"
     ]
    }
   ],
   "source": [
    "for key, val in id_class_dict.items():\n",
    "    print(f\"{key}: {val}\")"
   ]
  }
 ],
 "metadata": {
  "kernelspec": {
   "display_name": "geneformer",
   "language": "python",
   "name": "python3"
  },
  "language_info": {
   "codemirror_mode": {
    "name": "ipython",
    "version": 3
   },
   "file_extension": ".py",
   "mimetype": "text/x-python",
   "name": "python",
   "nbconvert_exporter": "python",
   "pygments_lexer": "ipython3",
   "version": "3.10.15"
  }
 },
 "nbformat": 4,
 "nbformat_minor": 2
}
